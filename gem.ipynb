{
 "cells": [
  {
   "cell_type": "code",
   "execution_count": 1,
   "metadata": {},
   "outputs": [
    {
     "data": {
      "image/png": "[encoded data removed]",
      "text/plain": [
       "<Figure size 432x288 with 1 Axes>"
      ]
     },
     "metadata": {
      "needs_background": "light"
     },
     "output_type": "display_data"
    }
   ],
   "source": [
    "import numpy as np\n",
    "import matplotlib.pyplot as plt\n",
    "%matplotlib inline\n",
    "\n",
    "# http://www.columbia.edu/~jwp2128/Teaching/E6892/papers/SimpleProof.pdf\n",
    "# http://www.cs.cmu.edu/~./kbe/dp_tutorial.pdf\n",
    "\n",
    "dist = []\n",
    "num = 1000\n",
    "weight_pos = np.random.uniform(0, 1, size=num)\n",
    "\n",
    "for each in range(1):\n",
    "    i_draw = np.random.beta(1, 1, size=num)\n",
    "    one_minus_pii = [1-each for each in i_draw]\n",
    "    paired_weights = list(zip([np.product(one_minus_pii[:i]) for i, each in enumerate(one_minus_pii)], i_draw))\n",
    "    weights = [a*b for a, b in paired_weights]\n",
    "    dist.append(weights)\n",
    "\n",
    "    plt.bar(weight_pos, np.array(dist)[0], align='edge', width=0.05)\n",
    "plt.title('Stick Breaking Distribution')\n",
    "plt.xlabel('Position in Uniform Distribution')\n",
    "plt.ylabel(\"Draw from a Beta(1, 1) Distribution\")\n",
    "plt.show()"
   ]
  },
  {
   "cell_type": "code",
   "execution_count": 2,
   "metadata": {},
   "outputs": [
    {
     "data": {
      "text/plain": [
       "1.0"
      ]
     },
     "execution_count": 2,
     "metadata": {},
     "output_type": "execute_result"
    }
   ],
   "source": [
    "# Check if weights sum to one.\n",
    "np.sum(dist)"
   ]
  },
  {
   "cell_type": "code",
   "execution_count": null,
   "metadata": {},
   "outputs": [],
   "source": []
  }
 ],
 "metadata": {
  "kernelspec": {
   "display_name": "Python 3",
   "language": "python",
   "name": "python3"
  },
  "language_info": {
   "codemirror_mode": {
    "name": "ipython",
    "version": 3
   },
   "file_extension": ".py",
   "mimetype": "text/x-python",
   "name": "python",
   "nbconvert_exporter": "python",
   "pygments_lexer": "ipython3",
   "version": "3.7.4"
  }
 },
 "nbformat": 4,
 "nbformat_minor": 2
}
