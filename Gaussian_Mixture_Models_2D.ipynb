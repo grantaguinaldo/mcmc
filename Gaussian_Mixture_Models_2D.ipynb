{
  "nbformat": 4,
  "nbformat_minor": 0,
  "metadata": {
    "colab": {
      "name": "Gaussian_Mixture_Models_2D.ipynb",
      "provenance": [],
      "collapsed_sections": []
    },
    "kernelspec": {
      "name": "python3",
      "display_name": "Python 3"
    }
  },
  "cells": [
    {
      "cell_type": "code",
      "metadata": {
        "id": "DrsHNw9L5fHc",
        "colab_type": "code",
        "colab": {}
      },
      "source": [
        "import matplotlib.pyplot as plt\n",
        "from sklearn import cluster, datasets, mixture\n",
        "import numpy as np\n",
        "from scipy.stats import multivariate_normal\n",
        "from sklearn.datasets import make_spd_matrix\n",
        "plt.rcParams[\"axes.grid\"] = False"
      ],
      "execution_count": null,
      "outputs": []
    },
    {
      "cell_type": "code",
      "metadata": {
        "id": "3K0oDesJCemg",
        "colab_type": "code",
        "colab": {}
      },
      "source": [
        "# define the number of samples to be drawn\n",
        "n_samples = 100"
      ],
      "execution_count": null,
      "outputs": []
    },
    {
      "cell_type": "code",
      "metadata": {
        "id": "J_b9C6QhIRwO",
        "colab_type": "code",
        "colab": {
          "base_uri": "https://localhost:8080/",
          "height": 34
        },
        "outputId": "81585dd2-1843-4f09-b039-93158b17e1c0"
      },
      "source": [
        "# define the mean points for each of the systhetic cluster centers\n",
        "t_means = [[8.4, 8.2], [1.4, 1.6], [2.4, 5.4], [6.4, 2.4]]\n",
        "\n",
        "# for each cluster center, create a Positive semidefinite convariance matrix\n",
        "t_covs = []\n",
        "for s in range(len(t_means)):\n",
        "  t_covs.append(make_spd_matrix(2))\n",
        "\n",
        "X = []\n",
        "for mean, cov in zip(t_means,t_covs):\n",
        "  x = np.random.multivariate_normal(mean, cov, n_samples)\n",
        "  X += list(x)\n",
        "  \n",
        "X = np.array(X)\n",
        "np.random.shuffle(X)\n",
        "print(\"Dataset shape:\", X.shape)"
      ],
      "execution_count": null,
      "outputs": [
        {
          "output_type": "stream",
          "text": [
            "Dataset shape: (400, 2)\n"
          ],
          "name": "stdout"
        }
      ]
    },
    {
      "cell_type": "code",
      "metadata": {
        "id": "3o8s2O_RJhGX",
        "colab_type": "code",
        "colab": {
          "base_uri": "https://localhost:8080/",
          "height": 50
        },
        "outputId": "dc554034-4132-48a2-f2ff-a1c40fd639dd"
      },
      "source": [
        "# Create a grid for visualization purposes \n",
        "x = np.linspace(np.min(X[...,0])-1,np.max(X[...,0])+1,100)\n",
        "y = np.linspace(np.min(X[...,1])-1,np.max(X[...,1])+1,80)\n",
        "X_,Y_ = np.meshgrid(x,y)\n",
        "pos = np.array([X_.flatten(),Y_.flatten()]).T\n",
        "print(pos.shape)\n",
        "print(np.max(pos[...,1]))"
      ],
      "execution_count": null,
      "outputs": [
        {
          "output_type": "stream",
          "text": [
            "(8000, 2)\n",
            "10.723673621677165\n"
          ],
          "name": "stdout"
        }
      ]
    },
    {
      "cell_type": "code",
      "metadata": {
        "id": "LF5plZfI5qiY",
        "colab_type": "code",
        "colab": {
          "base_uri": "https://localhost:8080/",
          "height": 101
        },
        "outputId": "7a12255c-b2b7-47d9-fb73-2586fb649bca"
      },
      "source": [
        "# define the number of clusters to be learned\n",
        "k = 4\n",
        "\n",
        "# create and initialize the cluster centers and the weight paramters\n",
        "weights = np.ones((k)) / k\n",
        "means = np.random.choice(X.flatten(), (k,X.shape[1]))\n",
        "print(means)\n",
        "print(weights)"
      ],
      "execution_count": null,
      "outputs": [
        {
          "output_type": "stream",
          "text": [
            "[[ 0.79162163  7.19419377]\n",
            " [10.74516074  3.9975373 ]\n",
            " [ 6.31026836  6.54367072]\n",
            " [ 4.0442916   3.14998672]]\n",
            "[0.25 0.25 0.25 0.25]\n"
          ],
          "name": "stdout"
        }
      ]
    },
    {
      "cell_type": "code",
      "metadata": {
        "id": "Z6wt3IuV5uxH",
        "colab_type": "code",
        "colab": {
          "base_uri": "https://localhost:8080/",
          "height": 34
        },
        "outputId": "2df31599-7f0b-443c-cea3-16e492568d44"
      },
      "source": [
        "# create and initialize a Positive semidefinite convariance matrix \n",
        "cov = []\n",
        "for i in range(k):\n",
        "  cov.append(make_spd_matrix(X.shape[1]))\n",
        "cov = np.array(cov)\n",
        "print(cov.shape)"
      ],
      "execution_count": null,
      "outputs": [
        {
          "output_type": "stream",
          "text": [
            "(4, 2, 2)\n"
          ],
          "name": "stdout"
        }
      ]
    },
    {
      "cell_type": "code",
      "metadata": {
        "id": "erwQND925xoe",
        "colab_type": "code",
        "colab": {
          "base_uri": "https://localhost:8080/",
          "height": 1000
        },
        "outputId": "09a61ef8-5236-4271-ea1b-c1eae5e4ea6d"
      },
      "source": [
        "colors = ['tab:blue', 'tab:orange', 'tab:green', 'magenta', 'yellow', 'red', 'brown', 'grey']\n",
        "eps=1e-8\n",
        "\n",
        "# run GMM for 40 steps\n",
        "for step in range(40):\n",
        "\n",
        "  # visualize the learned clusters\n",
        "  if step % 1 == 0:\n",
        "    plt.figure(figsize=(12,int(8)))\n",
        "    plt.title(\"Iteration {}\".format(step))\n",
        "    axes = plt.gca()\n",
        "    \n",
        "    likelihood = []\n",
        "    for j in range(k):\n",
        "      likelihood.append(multivariate_normal.pdf(x=pos, mean=means[j], cov=cov[j]))\n",
        "    likelihood = np.array(likelihood)\n",
        "    predictions = np.argmax(likelihood, axis=0)\n",
        "    \n",
        "    for c in range(k):\n",
        "      pred_ids = np.where(predictions == c)\n",
        "      plt.scatter(pos[pred_ids[0],0], pos[pred_ids[0],1], color=colors[c], alpha=0.2, edgecolors='none', marker='s')\n",
        "    \n",
        "    plt.scatter(X[...,0], X[...,1], facecolors='none', edgecolors='grey')\n",
        "    \n",
        "    for j in range(k):\n",
        "      plt.scatter(means[j][0], means[j][1], color=colors[j])\n",
        "\n",
        "    #plt.savefig(\"img_{0:02d}\".format(step), bbox_inches='tight')\n",
        "    plt.show()\n",
        "\n",
        "  likelihood = []\n",
        "  # Expectation step\n",
        "  for j in range(k):\n",
        "    likelihood.append(multivariate_normal.pdf(x=X, mean=means[j], cov=cov[j]))\n",
        "  likelihood = np.array(likelihood)\n",
        "  assert likelihood.shape == (k, len(X))\n",
        "    \n",
        "  b = []\n",
        "  # Maximization step \n",
        "  for j in range(k):\n",
        "    # use the current values for the parameters to evaluate the posterior\n",
        "    # probabilities of the data to have been generanted by each gaussian\n",
        "    b.append((likelihood[j] * weights[j]) / (np.sum([likelihood[i] * weights[i] for i in range(k)], axis=0)+eps))\n",
        "\n",
        "    # updage mean and variance\n",
        "    means[j] = np.sum(b[j].reshape(len(X),1) * X, axis=0) / (np.sum(b[j]+eps))\n",
        "    cov[j] = np.dot((b[j].reshape(len(X),1) * (X - means[j])).T, (X - means[j])) / (np.sum(b[j])+eps)\n",
        "\n",
        "    # update the weights\n",
        "    weights[j] = np.mean(b[j])\n",
        "    \n",
        "    assert cov.shape == (k, X.shape[1], X.shape[1])\n",
        "    assert means.shape == (k, X.shape[1])"
      ],
      "execution_count": null,
      "outputs": []
    },
    {
      "cell_type": "code",
      "metadata": {
        "id": "hy46wC20QeYZ",
        "colab_type": "code",
        "colab": {}
      },
      "source": [
        "# !sudo apt-get update\n",
        "# !sudo apt-get install ffmpeg imagemagick\n",
        "# !convert -delay 35 -loop 0 *.png out_.gif"
      ],
      "execution_count": null,
      "outputs": []
    },
    {
      "cell_type": "code",
      "metadata": {
        "id": "6z2--gyqHRtB",
        "colab_type": "code",
        "colab": {}
      },
      "source": [
        ""
      ],
      "execution_count": null,
      "outputs": []
    }
  ]
}